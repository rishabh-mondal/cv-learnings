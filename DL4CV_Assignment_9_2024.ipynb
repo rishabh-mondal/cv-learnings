{
  "cells": [
    {
      "cell_type": "code",
      "execution_count": 1,
      "metadata": {
        "id": "ikLlt7DxkiS0"
      },
      "outputs": [],
      "source": [
        "import torch\n",
        "import torch.nn as nn\n",
        "import torch.optim as optim\n",
        "from torchvision import datasets, transforms\n",
        "from torch.utils.data import DataLoader\n",
        "import matplotlib.pyplot as plt\n",
        "import numpy as np\n",
        "import argparse\n",
        "import pickle\n",
        "import os\n",
        "from PIL import Image\n",
        "import torchvision.models as models\n",
        "import torch.nn.functional as F\n",
        "import torch.optim as optim\n",
        "import torch.optim.lr_scheduler as lr_scheduler\n",
        "import torchvision\n",
        "import random\n",
        "from tqdm import tqdm\n",
        "from torch.utils.data import random_split\n",
        "from torch.autograd import Variable\n",
        "import cv2\n",
        "import torchvision.utils as utils\n",
        "## Please DONOT remove these lines.\n",
        "# Set random seed for reproducibility\n",
        "torch.manual_seed(2024)\n",
        "torch.backends.cudnn.deterministic = True\n",
        "torch.backends.cudnn.benchmark = False\n",
        "np.random.seed(2024)"
      ]
    },
    {
      "cell_type": "markdown",
      "metadata": {
        "id": "Gg5_e7ThvKth"
      },
      "source": [
        "#AUTO-ENCODERS"
      ]
    },
    {
      "cell_type": "code",
      "execution_count": 2,
      "metadata": {
        "id": "f8UDG0TjlP7p"
      },
      "outputs": [
        {
          "name": "stdout",
          "output_type": "stream",
          "text": [
            "Downloading http://yann.lecun.com/exdb/mnist/train-images-idx3-ubyte.gz\n",
            "Failed to download (trying next):\n",
            "HTTP Error 403: Forbidden\n",
            "\n",
            "Downloading https://ossci-datasets.s3.amazonaws.com/mnist/train-images-idx3-ubyte.gz\n",
            "Downloading https://ossci-datasets.s3.amazonaws.com/mnist/train-images-idx3-ubyte.gz to ./data/MNIST/raw/train-images-idx3-ubyte.gz\n"
          ]
        },
        {
          "name": "stderr",
          "output_type": "stream",
          "text": [
            "100%|██████████| 9912422/9912422 [00:12<00:00, 801139.81it/s]\n"
          ]
        },
        {
          "name": "stdout",
          "output_type": "stream",
          "text": [
            "Extracting ./data/MNIST/raw/train-images-idx3-ubyte.gz to ./data/MNIST/raw\n",
            "\n",
            "Downloading http://yann.lecun.com/exdb/mnist/train-labels-idx1-ubyte.gz\n",
            "Failed to download (trying next):\n",
            "HTTP Error 403: Forbidden\n",
            "\n",
            "Downloading https://ossci-datasets.s3.amazonaws.com/mnist/train-labels-idx1-ubyte.gz\n",
            "Downloading https://ossci-datasets.s3.amazonaws.com/mnist/train-labels-idx1-ubyte.gz to ./data/MNIST/raw/train-labels-idx1-ubyte.gz\n"
          ]
        },
        {
          "name": "stderr",
          "output_type": "stream",
          "text": [
            "100%|██████████| 28881/28881 [00:00<00:00, 151082.33it/s]\n"
          ]
        },
        {
          "name": "stdout",
          "output_type": "stream",
          "text": [
            "Extracting ./data/MNIST/raw/train-labels-idx1-ubyte.gz to ./data/MNIST/raw\n",
            "\n",
            "Downloading http://yann.lecun.com/exdb/mnist/t10k-images-idx3-ubyte.gz\n",
            "Failed to download (trying next):\n",
            "HTTP Error 403: Forbidden\n",
            "\n",
            "Downloading https://ossci-datasets.s3.amazonaws.com/mnist/t10k-images-idx3-ubyte.gz\n",
            "Downloading https://ossci-datasets.s3.amazonaws.com/mnist/t10k-images-idx3-ubyte.gz to ./data/MNIST/raw/t10k-images-idx3-ubyte.gz\n"
          ]
        },
        {
          "name": "stderr",
          "output_type": "stream",
          "text": [
            "100%|██████████| 1648877/1648877 [00:05<00:00, 288718.59it/s]\n"
          ]
        },
        {
          "name": "stdout",
          "output_type": "stream",
          "text": [
            "Extracting ./data/MNIST/raw/t10k-images-idx3-ubyte.gz to ./data/MNIST/raw\n",
            "\n",
            "Downloading http://yann.lecun.com/exdb/mnist/t10k-labels-idx1-ubyte.gz\n",
            "Failed to download (trying next):\n",
            "HTTP Error 403: Forbidden\n",
            "\n",
            "Downloading https://ossci-datasets.s3.amazonaws.com/mnist/t10k-labels-idx1-ubyte.gz\n",
            "Downloading https://ossci-datasets.s3.amazonaws.com/mnist/t10k-labels-idx1-ubyte.gz to ./data/MNIST/raw/t10k-labels-idx1-ubyte.gz\n"
          ]
        },
        {
          "name": "stderr",
          "output_type": "stream",
          "text": [
            "100%|██████████| 4542/4542 [00:00<00:00, 7346906.58it/s]"
          ]
        },
        {
          "name": "stdout",
          "output_type": "stream",
          "text": [
            "Extracting ./data/MNIST/raw/t10k-labels-idx1-ubyte.gz to ./data/MNIST/raw\n",
            "\n"
          ]
        },
        {
          "name": "stderr",
          "output_type": "stream",
          "text": [
            "\n"
          ]
        }
      ],
      "source": [
        "### YOUR CODE STARTS HERE ###\n",
        "\n",
        "# Set device to cuda\n",
        "device = torch.device('cuda' if torch.cuda.is_available() else 'cpu')\n",
        "# Load and preprocess the MNIST dataset. Keep batch size equal to 128.\n",
        "transform = transforms.Compose([transforms.ToTensor()])\n",
        "train_dataset = datasets.MNIST(root='./data',train=True,download=True,transform=transform)\n",
        "train_loader = DataLoader(train_dataset,batch_size=128,shuffle=True)\n",
        "\n",
        "### YOUR CODE ENDS HERE ###"
      ]
    },
    {
      "cell_type": "code",
      "execution_count": 11,
      "metadata": {
        "id": "FlZft_XNlrFy"
      },
      "outputs": [],
      "source": [
        "import torch\n",
        "import torch.nn as nn\n",
        "\n",
        "# Define the Autoencoder architecture\n",
        "class Autoencoder(nn.Module):\n",
        "\n",
        "    def __init__(self):\n",
        "        super(Autoencoder, self).__init__()\n",
        "        ### YOUR CODE STARTS HERE ###\n",
        "\n",
        "        # The input size of MNIST is 28x28 = 784 pixels\n",
        "        self.encoder = nn.Sequential(\n",
        "            nn.Linear(28 * 28, 128),  # Linear layer with input = 784 (28x28), output = 128\n",
        "            nn.ReLU(),                # Relu activation\n",
        "            nn.Linear(128, 64),       # Linear layer with input = 128, output = 64\n",
        "            nn.ReLU(),                # Relu activation\n",
        "            nn.Linear(64, 32),        # Linear layer with input = 64, output = 32\n",
        "            nn.ReLU(),                # Relu activation\n",
        "            nn.Linear(32, 16)         # Linear layer with input = 32, output = 16\n",
        "        )\n",
        "        self.decoder = nn.Sequential(\n",
        "            nn.Linear(16, 32),        # Linear layer with input = 16, output = 32\n",
        "            nn.ReLU(),                # Relu activation\n",
        "            nn.Linear(32, 64),        # Linear layer with input = 32, output = 64\n",
        "            nn.ReLU(),                # Relu activation\n",
        "            nn.Linear(64, 128),       # Linear layer with input = 64, output = 128\n",
        "            nn.ReLU(),                # Relu activation\n",
        "            nn.Linear(128, 28 * 28),  # Linear layer with input = 128, output = 784 (28x28)\n",
        "            nn.Sigmoid()              # Sigmoid activation to normalize pixel values between 0 and 1\n",
        "        )\n",
        "\n",
        "        ### YOUR CODE ENDS HERE ###\n",
        "    \n",
        "    def forward(self, x):\n",
        "        encoded = self.encoder(x)\n",
        "        decoded = self.decoder(encoded)\n",
        "        return decoded"
      ]
    },
    {
      "cell_type": "code",
      "execution_count": 12,
      "metadata": {
        "id": "QmxXefXukTzK"
      },
      "outputs": [
        {
          "name": "stdout",
          "output_type": "stream",
          "text": [
            "Epoch [1/10], Loss: 0.0489\n",
            "Epoch [2/10], Loss: 0.0328\n",
            "Epoch [3/10], Loss: 0.0273\n",
            "Epoch [4/10], Loss: 0.0305\n",
            "Epoch [5/10], Loss: 0.0262\n",
            "Epoch [6/10], Loss: 0.0226\n",
            "Epoch [7/10], Loss: 0.0242\n",
            "Epoch [8/10], Loss: 0.0220\n",
            "Epoch [9/10], Loss: 0.0215\n",
            "Epoch [10/10], Loss: 0.0181\n"
          ]
        }
      ],
      "source": [
        "# Initialize the model, loss function, and optimizer\n",
        "\n",
        "### YOUR CODE STARTS HERE ###\n",
        "\n",
        "model = Autoencoder().to(device)  # Send autoencoder to GPU\n",
        "criterion = nn.MSELoss() # Initialize MSE loss\n",
        "optimizer = optim.Adam(model.parameters(),lr=1e-3)  # Set Adam as optimizer\n",
        "\n",
        "# Training loop\n",
        "num_epochs = 10\n",
        "for epoch in range(10):\n",
        "    for data in train_loader:\n",
        "        img, _ = data\n",
        "        img = img.view(img.size(0), -1).to(device)\n",
        "\n",
        "        # Forward pass\n",
        "        output = model(img)\n",
        "        # print(output.shape)\n",
        "        loss = criterion(output,img) # Calculate the loss\n",
        "\n",
        "        # Backward pass and optimize\n",
        "        optimizer.zero_grad()  # Reset Gradient\n",
        "        loss.backward()\n",
        "        optimizer.step()\n",
        "### YOUR CODE ENDS HERE ###\n",
        "    print(f'Epoch [{epoch+1}/{num_epochs}], Loss: {loss.item():.4f}')\n",
        "\n"
      ]
    },
    {
      "cell_type": "code",
      "execution_count": 13,
      "metadata": {
        "id": "yGPeUPLNldf_"
      },
      "outputs": [],
      "source": [
        "# Function to visualize original and reconstructed images\n",
        "\n",
        "def visualize_reconstruction(model, data_loader, num_images=5):\n",
        "    model.eval()\n",
        "    with torch.no_grad():\n",
        "        for img, _ in data_loader:\n",
        "            img = img.view(img.size(0), -1).to(device)\n",
        "            output = model(img)\n",
        "\n",
        "            fig, axes = plt.subplots(2, num_images, figsize=(12, 4))\n",
        "            for i in range(num_images):\n",
        "                axes[0, i].imshow(img[i].cpu().view(28, 28), cmap='gray')\n",
        "                axes[0, i].axis('off')\n",
        "                axes[1, i].imshow(output[i].cpu().view(28, 28), cmap='gray')\n",
        "                axes[1, i].axis('off')\n",
        "\n",
        "            plt.tight_layout()\n",
        "            plt.show()\n",
        "            break\n"
      ]
    },
    {
      "cell_type": "code",
      "execution_count": 14,
      "metadata": {
        "id": "BroGvAg6lfvg"
      },
      "outputs": [
        {
          "data": {
            "image/png": "[encoded data removed]",
            "text/plain": [
              "<Figure size 1200x400 with 10 Axes>"
            ]
          },
          "metadata": {},
          "output_type": "display_data"
        }
      ],
      "source": [
        "\n",
        "# Visualize some reconstructions\n",
        "visualize_reconstruction(model, DataLoader(train_dataset, batch_size=32, shuffle=True))"
      ]
    },
    {
      "cell_type": "markdown",
      "metadata": {
        "id": "ZFzPyqGTuRVA"
      },
      "source": [
        "### Question 1: Auto-Encoder\n",
        "What is the loss value at the end of 10th epoch?\n",
        "\n",
        "choose the closest option.\n",
        "\n",
        "\n",
        "1.   0.0559\n",
        "2.   0.0212\n",
        "3.   0.2321\n",
        "4.   0.9452\n"
      ]
    },
    {
      "cell_type": "code",
      "execution_count": 19,
      "metadata": {
        "id": "loQ-eYugmH4H"
      },
      "outputs": [],
      "source": [
        "#Define an overcomplete auto-encoder architechture\n",
        "\n",
        "class OvercompleteAutoencoder(nn.Module):\n",
        "  ### YOUR CODE STARTS HERE ###\n",
        "    def __init__(self):\n",
        "        super(OvercompleteAutoencoder, self).__init__()\n",
        "        self.encoder = nn.Sequential(\n",
        "            nn.Linear(28*28, 512),  # Linear layer for increasing dimensionality (28*28 to 512)\n",
        "            nn.ReLU(),  #Relu activation\n",
        "            nn.Linear(512,1024),   # Linear layer for Further increase to 1024\n",
        "            nn.ReLU(),  #Relu activation\n",
        "            nn.Linear(1024,2048)   # Overcomplete representation of dimention 2048\n",
        "        )\n",
        "        self.decoder = nn.Sequential(\n",
        "            nn.Linear(2048,1024),  # Linear layer from 2048 to 1024\n",
        "            nn.ReLU(), #Relu activation\n",
        "            nn.Linear(1024,512), # Linear layer from 1024 to 512\n",
        "            nn.ReLU(),#Relu activation\n",
        "            nn.Linear(512,28*28), # Linear layer from 512 to 28*28\n",
        "            nn.Sigmoid()  #Sigmoid\n",
        "        )\n",
        "  ### YOUR CODE ENDS HERE ###\n",
        "    def forward(self, x):\n",
        "        encoded = self.encoder(x)\n",
        "        decoded = self.decoder(encoded)\n",
        "        return decoded\n"
      ]
    },
    {
      "cell_type": "code",
      "execution_count": 20,
      "metadata": {
        "id": "9mgZ0LkAmHKP"
      },
      "outputs": [
        {
          "name": "stdout",
          "output_type": "stream",
          "text": [
            "Epoch [1/10], Loss: 0.2301\n",
            "Epoch [2/10], Loss: 0.2312\n",
            "Epoch [3/10], Loss: 0.2311\n",
            "Epoch [4/10], Loss: 0.2310\n",
            "Epoch [5/10], Loss: 0.2304\n",
            "Epoch [6/10], Loss: 0.2310\n",
            "Epoch [7/10], Loss: 0.2312\n",
            "Epoch [8/10], Loss: 0.2312\n",
            "Epoch [9/10], Loss: 0.2310\n",
            "Epoch [10/10], Loss: 0.2316\n"
          ]
        }
      ],
      "source": [
        "over_com_model = OvercompleteAutoencoder().to(device)\n",
        "### YOUR CODE STARTS HERE ###\n",
        "\n",
        "# Training loop\n",
        "num_epochs = 10\n",
        "for epoch in range(num_epochs):\n",
        "    for data in train_loader:\n",
        "        img, _ = data\n",
        "        img = img.view(img.size(0), -1).to(device)\n",
        "\n",
        "        # Forward pass\n",
        "        output = over_com_model(img)\n",
        "        loss = criterion(output,img)   # calculate loss\n",
        "\n",
        "        # Backward pass and optimize\n",
        "        optimizer.zero_grad()   # Reset Gradient\n",
        "        \n",
        "        loss.backward()\n",
        "        optimizer.step()\n",
        "### YOUR CODE ENDS HERE ###\n",
        "    print(f'Epoch [{epoch+1}/{num_epochs}], Loss: {loss.item():.4f}')"
      ]
    },
    {
      "cell_type": "code",
      "execution_count": 21,
      "metadata": {
        "id": "jwL-oPbCmlQs"
      },
      "outputs": [
        {
          "data": {
            "image/png": "[encoded data removed]",
            "text/plain": [
              "<Figure size 1200x400 with 10 Axes>"
            ]
          },
          "metadata": {},
          "output_type": "display_data"
        }
      ],
      "source": [
        "visualize_reconstruction(over_com_model, DataLoader(train_dataset, batch_size=32, shuffle=True))"
      ]
    },
    {
      "cell_type": "markdown",
      "metadata": {
        "id": "bHradOmdt9Gh"
      },
      "source": [
        "### Question 2: Overcomplete Auto-Encoder\n",
        "What is the loss value at the end of 10th epoch?\n",
        "\n",
        "choose the closest option.\n",
        "\n",
        "\n",
        "1.   0.4509\n",
        "2.   0.5851\n",
        "3.   0.2321\n",
        "4.   0.1190\n",
        "\n"
      ]
    },
    {
      "cell_type": "markdown",
      "metadata": {
        "id": "LZe56GZeul04"
      },
      "source": [
        "#Multi Head Attention"
      ]
    },
    {
      "cell_type": "code",
      "execution_count": 22,
      "metadata": {
        "id": "g9mwliHI_1BC"
      },
      "outputs": [],
      "source": [
        "## Please DO NOT change these values.\n",
        "#This is the config that will be used for implementing the Multi-head attention\n",
        "config = {\n",
        "    'QI_DIM': 64,\n",
        "    'VI_DIM': 64,\n",
        "    'KI_DIM': 64,\n",
        "    'QO_DIM': 32,\n",
        "    'VO_DIM': 32,\n",
        "    'OP_DIM': 32,\n",
        "    'NUM_HEADS': 8,\n",
        "}"
      ]
    },
    {
      "cell_type": "code",
      "execution_count": 28,
      "metadata": {
        "id": "7S-NdiLS-1Q4"
      },
      "outputs": [],
      "source": [
        "#A class for implementing the Multi-head Attention\n",
        "class MultiHeadAttention(nn.Module):\n",
        "\n",
        "    def __init__(self, config):\n",
        "        super(MultiHeadAttention, self).__init__()\n",
        "\n",
        "        ### YOUR CODE STARTS HERE ###\n",
        "\n",
        "        #set the op dimension, number of heads based on the value given in config\n",
        "        self.op_dim = config['OP_DIM']\n",
        "        self.n_heads = config['NUM_HEADS']\n",
        "\n",
        "        #set the query dimension as QO_DIM from the config and value dimension as VO_DIM\n",
        "        self.query_dim = config['QO_DIM']\n",
        "        self.value_dim = config['VO_DIM']\n",
        "\n",
        "        #set the respective dimensions\n",
        "        self.QTrans = nn.Linear(config['QI_DIM'], config['QO_DIM'])\n",
        "        self.KTrans = nn.Linear(config['KI_DIM'], config['QO_DIM'])\n",
        "        self.VTrans = nn.Linear(config['VI_DIM'], config['VO_DIM'])\n",
        "        self.OTrans = nn.Linear(config['VO_DIM'], config['OP_DIM'])\n",
        "\n",
        "        #set the scaling factor as follows:\n",
        "        #scale = sqrt(QO_DIM/NUM_HEADS)\n",
        "        self.scale = torch.sqrt(torch.FloatTensor([self.query_dim // self.n_heads])).to(device)\n",
        "        ### YOUR CODE ENDS HERE ###\n",
        "\n",
        "\n",
        "\n",
        "    def forward(self, q_inp, k_inp, v_inp, ret_atn=False):\n",
        "\n",
        "        #making sure that shapes are similar across dim=0\n",
        "        assert q_inp.shape[0] == k_inp.shape[0]\n",
        "\n",
        "        #setting batch size\n",
        "        batch_size = q_inp.shape[0]\n",
        "        seq_length = q_inp.shape[1]\n",
        "\n",
        "        ### YOUR CODE STARTS HERE ###\n",
        "        #pass q_inp, k_inp, v_inp through the linear layers defined in the\n",
        "        #init function\n",
        "        Q = self.QTrans(q_inp)\n",
        "        K = self.KTrans(k_inp)\n",
        "        V = self.VTrans(v_inp)\n",
        "        #reshape the Q, K, V tensors to (batch_size, num_heads, -1, self.query_dim/num_heads)\n",
        "        #hint: you can also do the same by the view() of pytorch\n",
        "        Q = Q.view(batch_size, seq_length, self.n_heads, self.query_dim // self.n_heads).permute(0, 2, 1, 3)\n",
        "        K = K.view(batch_size, seq_length, self.n_heads, self.query_dim // self.n_heads).permute(0, 2, 1, 3)\n",
        "        V = V.view(batch_size, seq_length, self.n_heads, self.value_dim // self.n_heads).permute(0, 2, 1, 3)\n",
        "\n",
        "        # define energy as matrix product of Q and K divided by self.scale value\n",
        "        #hint: use torch.matmul() for this and do not forget to reshape K vector as (batch_size, num_heads, self.query_dim/num_heads, -1)\n",
        "        #this should be done in order to carry out the matrix multiplication\n",
        "        energy = torch.matmul(Q, K.permute(0, 1, 3, 2)) / self.scale\n",
        "\n",
        "        #define attention as softmax of energy vector across the last dimension\n",
        "        attention = torch.softmax(energy, dim=-1)\n",
        "\n",
        "        ### YOUR CODE ENDS HERE ###\n",
        "\n",
        "        #multiplying the attention with value tensor\n",
        "        attended = torch.matmul(attention, V).permute(0, 2, 1, 3).contiguous()\n",
        "\n",
        "        #passing the attended tensor through OTrans linear layer\n",
        "        out = self.OTrans(attended.view(batch_size, seq_length, -1))\n",
        "\n",
        "        if ret_atn:\n",
        "            return out, attention\n",
        "\n",
        "        else:\n",
        "            return out"
      ]
    },
    {
      "cell_type": "code",
      "execution_count": 29,
      "metadata": {
        "id": "h7oFAgh1AiLY"
      },
      "outputs": [
        {
          "name": "stdout",
          "output_type": "stream",
          "text": [
            "tensor(0.5634, device='cuda:0', grad_fn=<MaxBackward1>)\n"
          ]
        }
      ],
      "source": [
        "q = torch.rand(4, 2, 64)\n",
        "k = torch.rand(4, 2, 64)\n",
        "v = torch.rand(4, 2, 64)\n",
        "## Please DONOT remove these lines.\n",
        "\n",
        "### YOUR CODE STARTS HERE ###\n",
        "q = q.to(device)\n",
        "k = k.to(device)\n",
        "v = v.to(device)\n",
        "#initialise an instance of MultiHeadAttention class\n",
        "d = MultiHeadAttention(config).to(device)\n",
        "\n",
        "#pass q, k, v values through the instance\n",
        "x, y = d(q, k, v, ret_atn=True)  # Set ret_atn=True to return both the output and the attention weights\n",
        "\n",
        "#print the max value of the attention and report your answer\n",
        "print(torch.max(y))\n",
        "\n",
        "### YOUR CODE ENDS HERE ###\n"
      ]
    },
    {
      "cell_type": "markdown",
      "metadata": {
        "id": "E9pBN0KBt57Y"
      },
      "source": [
        "### Question 3: MultiHead-Attention\n",
        "Given a set of query, key, value vectors, calculate the attention value using multihead attention.\n",
        "\n",
        "choose the closest option to the maximum value of the attention vector\n",
        "\n",
        "\n",
        "1.   0.5855\n",
        "2.   0.7851\n",
        "3.   0.2312\n",
        "4.   0.9452\n",
        "\n"
      ]
    },
    {
      "cell_type": "markdown",
      "metadata": {
        "id": "VT9IrZNz8dne"
      },
      "source": [
        "# ViT"
      ]
    },
    {
      "cell_type": "code",
      "execution_count": 35,
      "metadata": {
        "id": "SDbq45iWCQl_"
      },
      "outputs": [],
      "source": [
        "# Import necessary libraries\n",
        "import torch\n",
        "import torch.nn as nn\n",
        "import torch.optim as optim\n",
        "from torchvision import datasets, transforms\n",
        "from torch.utils.data import DataLoader, random_split\n",
        "import matplotlib.pyplot as plt"
      ]
    },
    {
      "cell_type": "code",
      "execution_count": 43,
      "metadata": {
        "id": "a2CnaJYbCQsD"
      },
      "outputs": [],
      "source": [
        "import torch\n",
        "import torch.nn as nn\n",
        "\n",
        "class PatchEmbedding(nn.Module):\n",
        "    def __init__(self, img_size=28, patch_size=7, in_channels=1, embed_dim=64):\n",
        "        super().__init__()  # Initialize the parent class\n",
        "        self.img_size = img_size  # Size of the input image (28x28 for MNIST)\n",
        "        self.patch_size = patch_size  # Size of each patch\n",
        "        self.n_patches = (img_size // patch_size) ** 2  # Number of patches\n",
        "        # Convolutional layer to create patch embeddings\n",
        "        self.proj = nn.Conv2d(in_channels, embed_dim, kernel_size=patch_size, stride=patch_size)\n",
        "\n",
        "    def forward(self, x):\n",
        "        x = self.proj(x)  # Apply the convolutional projection to create patch embeddings\n",
        "        x = x.flatten(2)  # Flatten the spatial dimensions (batch_size, embed_dim, n_patches)\n",
        "        x = x.transpose(1, 2)  # Transpose to get (batch_size, n_patches, embed_dim)\n",
        "        return x"
      ]
    },
    {
      "cell_type": "code",
      "execution_count": 44,
      "metadata": {
        "id": "kVrWWZ9PCQxW"
      },
      "outputs": [],
      "source": [
        "import torch\n",
        "import torch.nn as nn\n",
        "\n",
        "class SimpleViT(nn.Module):\n",
        "    def __init__(self, img_size=28, patch_size=7, in_channels=1, embed_dim=64, num_heads=4, num_layers=2, num_classes=10):\n",
        "        super().__init__()  # Initialize the parent class\n",
        "        \n",
        "        # Create the patch embedding layer\n",
        "        self.patch_embed = PatchEmbedding(img_size, patch_size, in_channels, embed_dim)\n",
        "        \n",
        "        # Learnable classification token\n",
        "        self.cls_token = nn.Parameter(torch.zeros(1, 1, embed_dim))\n",
        "        \n",
        "        # Learnable position embeddings\n",
        "        self.pos_embed = nn.Parameter(torch.zeros(1, self.patch_embed.n_patches + 1, embed_dim))\n",
        "        \n",
        "        # Create the transformer encoder\n",
        "        self.transformer = nn.TransformerEncoder(\n",
        "            nn.TransformerEncoderLayer(d_model=embed_dim, nhead=num_heads, batch_first=True),\n",
        "            num_layers=num_layers\n",
        "        )\n",
        "        \n",
        "        # Final classification layer\n",
        "        self.fc = nn.Linear(embed_dim, num_classes)\n",
        "\n",
        "    def forward(self, x):\n",
        "        # Create patch embeddings\n",
        "        x = self.patch_embed(x)\n",
        "        \n",
        "        # Expand cls token to batch size\n",
        "        batch_size = x.size(0)\n",
        "        cls_tokens = self.cls_token.expand(batch_size, -1, -1)\n",
        "        \n",
        "        # Concatenate cls token with patch embeddings\n",
        "        x = torch.cat((cls_tokens, x), dim=1)\n",
        "        \n",
        "        # Add positional embeddings\n",
        "        x = x + self.pos_embed\n",
        "        \n",
        "        # Pass through the transformer encoder\n",
        "        x = self.transformer(x)\n",
        "        \n",
        "        # Extract the cls token output\n",
        "        x = x[:, 0]  # Take the output of the classification token\n",
        "        \n",
        "        # Pass through the final classification layer\n",
        "        x = self.fc(x)\n",
        "        \n",
        "        return x"
      ]
    },
    {
      "cell_type": "code",
      "execution_count": 45,
      "metadata": {},
      "outputs": [
        {
          "name": "stdout",
          "output_type": "stream",
          "text": [
            "Epoch [1/5], Train Loss: 0.8561, Val Loss: 0.3568\n",
            "Epoch [2/5], Train Loss: 0.3189, Val Loss: 0.1944\n",
            "Epoch [3/5], Train Loss: 0.2055, Val Loss: 0.1754\n",
            "Epoch [4/5], Train Loss: 0.1618, Val Loss: 0.1351\n",
            "Epoch [5/5], Train Loss: 0.1419, Val Loss: 0.1161\n"
          ]
        }
      ],
      "source": [
        "import torch\n",
        "from torch import nn, optim\n",
        "from torch.utils.data import DataLoader, random_split\n",
        "from torchvision import transforms, datasets\n",
        "\n",
        "### YOUR CODE STARTS HERE ###\n",
        "# Data preparation\n",
        "# Define the image transformations\n",
        "transform = transforms.Compose([\n",
        "    transforms.ToTensor(),  # Convert image to PyTorch tensor\n",
        "    transforms.Normalize((0.1307,), (0.3081,))  # Normalize with MNIST mean and std\n",
        "])\n",
        "\n",
        "# Load the MNIST train dataset with transform = transform\n",
        "dataset = datasets.MNIST(root='./data', train=True, download=True, transform=transform)\n",
        "# Split the dataset into training and validation sets\n",
        "train_dataset, val_dataset = random_split(dataset, [55000, 5000])\n",
        "# Load the test dataset\n",
        "test_dataset = datasets.MNIST(root='./data', train=False, download=True, transform=transform)\n",
        "\n",
        "# Create data loaders\n",
        "train_loader = DataLoader(train_dataset, batch_size=128, shuffle=True)\n",
        "val_loader = DataLoader(val_dataset, batch_size=128)\n",
        "test_loader = DataLoader(test_dataset, batch_size=128)\n",
        "### YOUR CODE ENDS HERE ###\n",
        "\n",
        "# Initialize model, loss function, and optimizer\n",
        "device = torch.device('cuda' if torch.cuda.is_available() else 'cpu')   # Use GPU if available\n",
        "model = SimpleViT(img_size=28, patch_size=7, in_channels=1, embed_dim=64, num_heads=4, num_layers=2, num_classes=10).to(device)  # Create the model and move it to the device\n",
        "criterion = nn.CrossEntropyLoss()   # Define the loss function\n",
        "optimizer = optim.Adam(model.parameters(), lr=0.001)   # Define the optimizer with ADAM and learning rate = 0.001\n",
        "\n",
        "# Training loop\n",
        "num_epochs = 5  # Number of times to iterate over the entire dataset\n",
        "train_losses, val_losses = [], []  # Lists to store the losses for plotting\n",
        "\n",
        "for epoch in range(num_epochs):\n",
        "    model.train()  # Set the model to training mode\n",
        "    train_loss = 0.0\n",
        "\n",
        "    for images, labels in train_loader:\n",
        "        images, labels = images.to(device), labels.to(device)  # Move data to device\n",
        "        optimizer.zero_grad()  # Zero out the gradients\n",
        "        outputs = model(images)  # Forward pass\n",
        "        loss = criterion(outputs, labels)  # Compute the loss\n",
        "        loss.backward()  # Backpropagate the loss\n",
        "        optimizer.step()  # Update the weights\n",
        "        train_loss += loss.item() * images.size(0)  # Accumulate the loss\n",
        "\n",
        "    train_loss /= len(train_loader.dataset)  # Compute average training loss\n",
        "    train_losses.append(train_loss)\n",
        "\n",
        "    # Validation\n",
        "    model.eval()  # Set the model to evaluation mode\n",
        "    val_loss = 0.0\n",
        "    with torch.no_grad():  # Disable gradient computation\n",
        "        for images, labels in val_loader:\n",
        "            images, labels = images.to(device), labels.to(device)\n",
        "            outputs = model(images)  # Get output from the model with images as input\n",
        "            loss = criterion(outputs, labels)  # Compute the loss\n",
        "            val_loss += loss.item() * images.size(0)  # Accumulate the loss\n",
        "\n",
        "    val_loss /= len(val_loader.dataset)  # Compute average validation loss\n",
        "    val_losses.append(val_loss)\n",
        "\n",
        "    print(f\"Epoch [{epoch+1}/{num_epochs}], Train Loss: {train_loss:.4f}, Val Loss: {val_loss:.4f}\")"
      ]
    },
    {
      "cell_type": "code",
      "execution_count": 32,
      "metadata": {
        "id": "p8qSExMnCcNz"
      },
      "outputs": [
        {
          "ename": "AttributeError",
          "evalue": "'PatchEmbedding' object has no attribute 'size'",
          "output_type": "error",
          "traceback": [
            "\u001b[0;31m---------------------------------------------------------------------------\u001b[0m",
            "\u001b[0;31mAttributeError\u001b[0m                            Traceback (most recent call last)",
            "Cell \u001b[0;32mIn[32], line 44\u001b[0m\n\u001b[1;32m     42\u001b[0m images, labels \u001b[38;5;241m=\u001b[39m images\u001b[38;5;241m.\u001b[39mto(device), labels\u001b[38;5;241m.\u001b[39mto(device)  \u001b[38;5;66;03m# Move data to device\u001b[39;00m\n\u001b[1;32m     43\u001b[0m optimizer\u001b[38;5;241m.\u001b[39mzero_grad()  \u001b[38;5;66;03m# Zero out the gradients\u001b[39;00m\n\u001b[0;32m---> 44\u001b[0m outputs \u001b[38;5;241m=\u001b[39m \u001b[43mmodel\u001b[49m\u001b[43m(\u001b[49m\u001b[43mimages\u001b[49m\u001b[43m)\u001b[49m  \u001b[38;5;66;03m# Forward pass\u001b[39;00m\n\u001b[1;32m     45\u001b[0m loss \u001b[38;5;241m=\u001b[39m criterion(outputs, labels)  \u001b[38;5;66;03m# Compute the loss\u001b[39;00m\n\u001b[1;32m     46\u001b[0m loss\u001b[38;5;241m.\u001b[39mbackward()  \u001b[38;5;66;03m# Backpropagate the loss\u001b[39;00m\n",
            "File \u001b[0;32m/opt/anaconda3/envs/rishabh_sat/lib/python3.12/site-packages/torch/nn/modules/module.py:1532\u001b[0m, in \u001b[0;36mModule._wrapped_call_impl\u001b[0;34m(self, *args, **kwargs)\u001b[0m\n\u001b[1;32m   1530\u001b[0m     \u001b[38;5;28;01mreturn\u001b[39;00m \u001b[38;5;28mself\u001b[39m\u001b[38;5;241m.\u001b[39m_compiled_call_impl(\u001b[38;5;241m*\u001b[39margs, \u001b[38;5;241m*\u001b[39m\u001b[38;5;241m*\u001b[39mkwargs)  \u001b[38;5;66;03m# type: ignore[misc]\u001b[39;00m\n\u001b[1;32m   1531\u001b[0m \u001b[38;5;28;01melse\u001b[39;00m:\n\u001b[0;32m-> 1532\u001b[0m     \u001b[38;5;28;01mreturn\u001b[39;00m \u001b[38;5;28;43mself\u001b[39;49m\u001b[38;5;241;43m.\u001b[39;49m\u001b[43m_call_impl\u001b[49m\u001b[43m(\u001b[49m\u001b[38;5;241;43m*\u001b[39;49m\u001b[43margs\u001b[49m\u001b[43m,\u001b[49m\u001b[43m \u001b[49m\u001b[38;5;241;43m*\u001b[39;49m\u001b[38;5;241;43m*\u001b[39;49m\u001b[43mkwargs\u001b[49m\u001b[43m)\u001b[49m\n",
            "File \u001b[0;32m/opt/anaconda3/envs/rishabh_sat/lib/python3.12/site-packages/torch/nn/modules/module.py:1541\u001b[0m, in \u001b[0;36mModule._call_impl\u001b[0;34m(self, *args, **kwargs)\u001b[0m\n\u001b[1;32m   1536\u001b[0m \u001b[38;5;66;03m# If we don't have any hooks, we want to skip the rest of the logic in\u001b[39;00m\n\u001b[1;32m   1537\u001b[0m \u001b[38;5;66;03m# this function, and just call forward.\u001b[39;00m\n\u001b[1;32m   1538\u001b[0m \u001b[38;5;28;01mif\u001b[39;00m \u001b[38;5;129;01mnot\u001b[39;00m (\u001b[38;5;28mself\u001b[39m\u001b[38;5;241m.\u001b[39m_backward_hooks \u001b[38;5;129;01mor\u001b[39;00m \u001b[38;5;28mself\u001b[39m\u001b[38;5;241m.\u001b[39m_backward_pre_hooks \u001b[38;5;129;01mor\u001b[39;00m \u001b[38;5;28mself\u001b[39m\u001b[38;5;241m.\u001b[39m_forward_hooks \u001b[38;5;129;01mor\u001b[39;00m \u001b[38;5;28mself\u001b[39m\u001b[38;5;241m.\u001b[39m_forward_pre_hooks\n\u001b[1;32m   1539\u001b[0m         \u001b[38;5;129;01mor\u001b[39;00m _global_backward_pre_hooks \u001b[38;5;129;01mor\u001b[39;00m _global_backward_hooks\n\u001b[1;32m   1540\u001b[0m         \u001b[38;5;129;01mor\u001b[39;00m _global_forward_hooks \u001b[38;5;129;01mor\u001b[39;00m _global_forward_pre_hooks):\n\u001b[0;32m-> 1541\u001b[0m     \u001b[38;5;28;01mreturn\u001b[39;00m \u001b[43mforward_call\u001b[49m\u001b[43m(\u001b[49m\u001b[38;5;241;43m*\u001b[39;49m\u001b[43margs\u001b[49m\u001b[43m,\u001b[49m\u001b[43m \u001b[49m\u001b[38;5;241;43m*\u001b[39;49m\u001b[38;5;241;43m*\u001b[39;49m\u001b[43mkwargs\u001b[49m\u001b[43m)\u001b[49m\n\u001b[1;32m   1543\u001b[0m \u001b[38;5;28;01mtry\u001b[39;00m:\n\u001b[1;32m   1544\u001b[0m     result \u001b[38;5;241m=\u001b[39m \u001b[38;5;28;01mNone\u001b[39;00m\n",
            "Cell \u001b[0;32mIn[31], line 26\u001b[0m, in \u001b[0;36mSimpleViT.forward\u001b[0;34m(self, x)\u001b[0m\n\u001b[1;32m     23\u001b[0m \u001b[38;5;28;01mdef\u001b[39;00m \u001b[38;5;21mforward\u001b[39m(\u001b[38;5;28mself\u001b[39m, x):\n\u001b[1;32m     24\u001b[0m     \u001b[38;5;66;03m### YOUR CODE STARTS HERE ###\u001b[39;00m\n\u001b[1;32m     25\u001b[0m     x \u001b[38;5;241m=\u001b[39m \u001b[38;5;28mself\u001b[39m\u001b[38;5;241m.\u001b[39mpatch_embed  \u001b[38;5;66;03m# Create patch embeddings\u001b[39;00m\n\u001b[0;32m---> 26\u001b[0m     cls_tokens \u001b[38;5;241m=\u001b[39m \u001b[38;5;28mself\u001b[39m\u001b[38;5;241m.\u001b[39mcls_token\u001b[38;5;241m.\u001b[39mexpand(\u001b[43mx\u001b[49m\u001b[38;5;241;43m.\u001b[39;49m\u001b[43msize\u001b[49m(\u001b[38;5;241m0\u001b[39m), \u001b[38;5;241m-\u001b[39m\u001b[38;5;241m1\u001b[39m, \u001b[38;5;241m-\u001b[39m\u001b[38;5;241m1\u001b[39m) \u001b[38;5;66;03m# Expand cls token to batch size\u001b[39;00m\n\u001b[1;32m     27\u001b[0m     x \u001b[38;5;241m=\u001b[39m torch\u001b[38;5;241m.\u001b[39mcat((cls_tokens,x),dim\u001b[38;5;241m=\u001b[39m\u001b[38;5;241m1\u001b[39m)  \u001b[38;5;66;03m# Concatenate cls token with patch embeddings\u001b[39;00m\n\u001b[1;32m     28\u001b[0m     x \u001b[38;5;241m=\u001b[39m x\u001b[38;5;241m+\u001b[39m\u001b[38;5;28mself\u001b[39m\u001b[38;5;241m.\u001b[39mpos_embed  \u001b[38;5;66;03m# Add positional embeddings\u001b[39;00m\n",
            "File \u001b[0;32m/opt/anaconda3/envs/rishabh_sat/lib/python3.12/site-packages/torch/nn/modules/module.py:1709\u001b[0m, in \u001b[0;36mModule.__getattr__\u001b[0;34m(self, name)\u001b[0m\n\u001b[1;32m   1707\u001b[0m     \u001b[38;5;28;01mif\u001b[39;00m name \u001b[38;5;129;01min\u001b[39;00m modules:\n\u001b[1;32m   1708\u001b[0m         \u001b[38;5;28;01mreturn\u001b[39;00m modules[name]\n\u001b[0;32m-> 1709\u001b[0m \u001b[38;5;28;01mraise\u001b[39;00m \u001b[38;5;167;01mAttributeError\u001b[39;00m(\u001b[38;5;124mf\u001b[39m\u001b[38;5;124m\"\u001b[39m\u001b[38;5;124m'\u001b[39m\u001b[38;5;132;01m{\u001b[39;00m\u001b[38;5;28mtype\u001b[39m(\u001b[38;5;28mself\u001b[39m)\u001b[38;5;241m.\u001b[39m\u001b[38;5;18m__name__\u001b[39m\u001b[38;5;132;01m}\u001b[39;00m\u001b[38;5;124m'\u001b[39m\u001b[38;5;124m object has no attribute \u001b[39m\u001b[38;5;124m'\u001b[39m\u001b[38;5;132;01m{\u001b[39;00mname\u001b[38;5;132;01m}\u001b[39;00m\u001b[38;5;124m'\u001b[39m\u001b[38;5;124m\"\u001b[39m)\n",
            "\u001b[0;31mAttributeError\u001b[0m: 'PatchEmbedding' object has no attribute 'size'"
          ]
        }
      ],
      "source": [
        "### YOUR CODE STARTS HERE ###\n",
        "# Data preparation\n",
        "# Define the image transformations\n",
        "transform = transforms.Compose([\n",
        "    transforms.__ ,  # Convert image to PyTorch tensor\n",
        "    transforms.__  # Normalize with MNIST = 0.1307 mean and std = 0.3081\n",
        "])\n",
        "\n",
        "# Load the MNIST train  dataset with transform = transform\n",
        "dataset = __\n",
        "# Split the dataset into training and validation sets\n",
        "train_dataset, val_dataset = random_split(dataset, [55000, 5000])\n",
        "# Load the test dataset\n",
        "test_dataset = datasets.MNIST(root='./data', train=False, download=True, transform=transform)\n",
        "\n",
        "# Create data loaders\n",
        "train_loader = DataLoader(train_dataset, batch_size=128, shuffle=True)\n",
        "val_loader = DataLoader(val_dataset, batch_size=128)\n",
        "test_loader = DataLoader(test_dataset, batch_size=128)\n",
        "### YOUR CODE STARTS HERE ###\n",
        "# Initialize model, loss function, and optimizer\n",
        "device = __   # Use GPU if available\n",
        "model = __   # Create the model and move it to the device\n",
        "criterion = __   # Define the loss function\n",
        "optimizer = __   # Define the optimizer with ADAM and learning rate = 0.001\n",
        "\n",
        "# Training loop\n",
        "num_epochs = 5  # Number of times to iterate over the entire dataset\n",
        "train_losses, val_losses = [], []  # Lists to store the losses for plotting\n",
        "\n",
        "for epoch in range(num_epochs):\n",
        "    model.train()  # Set the model to training mode\n",
        "    train_loss = 0.0\n",
        "\n",
        "    for images, labels in train_loader:\n",
        "        images, labels = __  # Move data to device\n",
        "        optimizer.__ # Zero out the gradients\n",
        "        outputs = __  # Forward pass\n",
        "        loss = __  # Compute the loss\n",
        "        loss.__  # Backpropagate the loss\n",
        "        optimizer.__  # Update the weights\n",
        "        train_loss __  # Accumulate the loss\n",
        "\n",
        "    __  # Compute average training loss\n",
        "    __\n",
        "\n",
        "    # Validation\n",
        "    __  # Set the model to evaluation mode\n",
        "    val_loss = 0.0\n",
        "    with torch.no_grad():  # Disable gradient computation\n",
        "        for images, labels in val_loader:\n",
        "            images, labels = __\n",
        "            outputs = __  # Get output from the model with images as input\n",
        "            loss = __ # Compute the loss\n",
        "            val_loss __ # Accumulate the loss\n",
        "\n",
        "    __  # Compute average validation loss\n",
        "    __\n",
        "    ### YOUR CODE ENDS HERE ###\n",
        "    print(f\"Epoch [{epoch+1}/{num_epochs}], Train Loss: {train_loss:.4f}, Val Loss: {val_loss:.4f}\")"
      ]
    },
    {
      "cell_type": "code",
      "execution_count": 46,
      "metadata": {
        "id": "KgVjD0x62QGt"
      },
      "outputs": [
        {
          "data": {
            "image/png": "[encoded data removed]",
            "text/plain": [
              "<Figure size 1000x500 with 1 Axes>"
            ]
          },
          "metadata": {},
          "output_type": "display_data"
        },
        {
          "name": "stdout",
          "output_type": "stream",
          "text": [
            "Test Accuracy: 97.21%\n"
          ]
        },
        {
          "data": {
            "image/png": "[encoded data removed]",
            "text/plain": [
              "<Figure size 1200x300 with 5 Axes>"
            ]
          },
          "metadata": {},
          "output_type": "display_data"
        }
      ],
      "source": [
        "# Plot training and validation loss\n",
        "plt.figure(figsize=(10, 5))\n",
        "plt.plot(range(1, num_epochs+1), train_losses, label='Train Loss')\n",
        "plt.plot(range(1, num_epochs+1), val_losses, label='Validation Loss')\n",
        "plt.xlabel('Epoch')\n",
        "plt.ylabel('Loss')\n",
        "plt.legend()\n",
        "plt.title('Training and Validation Loss')\n",
        "plt.show()\n",
        "\n",
        "# Test the model\n",
        "model.eval()\n",
        "correct = 0\n",
        "total = 0\n",
        "with torch.no_grad():\n",
        "    for images, labels in test_loader:\n",
        "        images, labels = images.to(device), labels.to(device)\n",
        "        outputs = model(images)\n",
        "        _, predicted = torch.max(outputs.data, 1)  # Get the predicted class\n",
        "        total += labels.size(0)\n",
        "        correct += (predicted == labels).sum().item()  # Count correct predictions\n",
        "\n",
        "accuracy = 100 * correct / total\n",
        "print(f'Test Accuracy: {accuracy:.2f}%')\n",
        "\n",
        "# Function to visualize predictions\n",
        "def visualize_predictions(model, data_loader, num_images=5):\n",
        "    model.eval()\n",
        "    images, labels = next(iter(data_loader))  # Get a batch of images\n",
        "    images, labels = images.to(device), labels.to(device)\n",
        "\n",
        "    with torch.no_grad():\n",
        "        outputs = model(images)  # Get output from the model with images as input\n",
        "        _, predicted = torch.max(outputs, 1)  # Get the predicted classes\n",
        "\n",
        "    fig, axes = plt.subplots(1, num_images, figsize=(12, 3))\n",
        "    for i in range(num_images):\n",
        "        axes[i].imshow(images[i].cpu().squeeze(), cmap='gray')  # Display the image\n",
        "        axes[i].set_title(f'Pred: {predicted[i]}\\nTrue: {labels[i]}')  # Show predicted and true labels\n",
        "        axes[i].axis('off')  # Turn off axis\n",
        "\n",
        "    plt.tight_layout()\n",
        "    plt.show()\n",
        "\n",
        "# Visualize some predictions\n",
        "visualize_predictions(model, test_loader)"
      ]
    },
    {
      "cell_type": "markdown",
      "metadata": {
        "id": "eRyn1K5Y8Y3H"
      },
      "source": [
        "### Question 4:\n",
        "Validation loss saturates after how many epochs?\n",
        "\n",
        "1.   1\n",
        "2.   1.5\n",
        "3.   2\n",
        "4.   4\n",
        "\n"
      ]
    },
    {
      "cell_type": "markdown",
      "metadata": {
        "id": "GTDawx1-8ZgI"
      },
      "source": [
        "### Question 5:\n",
        "What is the val loss at the end of 5th epoch? (choose the closest value)\n",
        "\n",
        "\n",
        "\n",
        "1.   0.1077\n",
        "2.   0.3441\n",
        "3.   0.783\n",
        "4.   1.450\n",
        "\n"
      ]
    },
    {
      "cell_type": "markdown",
      "metadata": {
        "id": "TQf5Ui5J8Z5N"
      },
      "source": [
        "### Question 6:\n",
        "What is the test accuracy? (select closest value)\n",
        "\n",
        "\n",
        "1.   96.70%\n",
        "2.   50.39%\n",
        "3.   85.30%\n",
        "4.   06.69%\n",
        "\n"
      ]
    }
  ],
  "metadata": {
    "colab": {
      "provenance": []
    },
    "kernelspec": {
      "display_name": "Python 3",
      "name": "python3"
    },
    "language_info": {
      "codemirror_mode": {
        "name": "ipython",
        "version": 3
      },
      "file_extension": ".py",
      "mimetype": "text/x-python",
      "name": "python",
      "nbconvert_exporter": "python",
      "pygments_lexer": "ipython3",
      "version": "3.12.4"
    }
  },
  "nbformat": 4,
  "nbformat_minor": 0
}
