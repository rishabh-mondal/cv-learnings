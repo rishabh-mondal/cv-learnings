{
 "cells": [
  {
   "cell_type": "code",
   "execution_count": 1,
   "metadata": {},
   "outputs": [],
   "source": [
    "import os\n",
    "os.environ['CUDA_VISIBLE_DEVICES'] = '0'"
   ]
  },
  {
   "cell_type": "code",
   "execution_count": 2,
   "metadata": {},
   "outputs": [],
   "source": [
    "import torch\n",
    "import torch.nn as nn\n",
    "import torch.nn.functional as F\n",
    "from torch.utils.data import DataLoader, Dataset\n",
    "from torchvision import transforms\n",
    "from PIL import Image\n",
    "import os\n",
    "from tqdm import tqdm\n",
    "import matplotlib.pyplot as plt "
   ]
  },
  {
   "cell_type": "markdown",
   "metadata": {},
   "source": []
  },
  {
   "cell_type": "code",
   "execution_count": 3,
   "metadata": {},
   "outputs": [],
   "source": [
    "image_folders = [\n",
    "    \"/home/rishabh.mondal/Brick-Kilns-project/albk_rishabh/albk_v2/YOLO_LOCALIZATION/cv-learnings/coco_ankiita/SD2Q/Train/Facebook\",\n",
    "    \"/home/rishabh.mondal/Brick-Kilns-project/albk_rishabh/albk_v2/YOLO_LOCALIZATION/cv-learnings/coco_ankiita/SD2Q/Train/Instagram\",\n",
    "    \"/home/rishabh.mondal/Brick-Kilns-project/albk_rishabh/albk_v2/YOLO_LOCALIZATION/cv-learnings/coco_ankiita/SD2Q/Train/Instagram\",\n",
    "    \"/home/rishabh.mondal/Brick-Kilns-project/albk_rishabh/albk_v2/YOLO_LOCALIZATION/cv-learnings/coco_ankiita/SD2Q/Train/Telegram\",\n",
    "]"
   ]
  },
  {
   "cell_type": "code",
   "execution_count": 4,
   "metadata": {},
   "outputs": [],
   "source": [
    "import torch\n",
    "import torch.nn as nn\n",
    "\n",
    "class ViT(nn.Module):\n",
    "    def __init__(self, num_classes=4, embed_dim=256, num_heads=8, num_layers=8, mlp_dim=512, conv_dim=64, dropout_rate=0.1):\n",
    "        super(ViT, self).__init__()\n",
    "        self.embed_dim = embed_dim\n",
    "        self.patch_size = 16\n",
    "        self.num_patches = (224 // self.patch_size) ** 2\n",
    "\n",
    "        # Convolutional layers before patch embedding\n",
    "        self.pre_conv = nn.Sequential(\n",
    "            nn.Conv2d(3, conv_dim, kernel_size=3, stride=1, padding=1),\n",
    "            nn.BatchNorm2d(conv_dim),\n",
    "            nn.ReLU(),\n",
    "            nn.Conv2d(conv_dim, conv_dim, kernel_size=3, stride=1, padding=1),\n",
    "            nn.BatchNorm2d(conv_dim),\n",
    "            nn.ReLU(),\n",
    "            nn.Conv2d(conv_dim, conv_dim, kernel_size=3, stride=1, padding=1),\n",
    "            nn.BatchNorm2d(conv_dim),\n",
    "            nn.ReLU(),\n",
    "        )\n",
    "\n",
    "        # Patch embedding\n",
    "        self.patch_embed = nn.Conv2d(in_channels=conv_dim, out_channels=embed_dim, kernel_size=self.patch_size, stride=self.patch_size)\n",
    "        self.norm = nn.LayerNorm(embed_dim)\n",
    "\n",
    "        # Positional encoding\n",
    "        self.positional_encoding = nn.Parameter(torch.zeros(1, self.num_patches, embed_dim))\n",
    "\n",
    "        # Transformer encoder layers with more layers and heads\n",
    "        encoder_layer = nn.TransformerEncoderLayer(d_model=embed_dim, nhead=num_heads, dim_feedforward=mlp_dim, dropout=dropout_rate)\n",
    "        self.transformer_encoder = nn.TransformerEncoder(encoder_layer, num_layers=num_layers)\n",
    "        \n",
    "        # Additional Feed-Forward Network (FFN) layers\n",
    "        self.ffn = nn.Sequential(\n",
    "            nn.Linear(embed_dim, mlp_dim),\n",
    "            nn.GELU(),\n",
    "            nn.Dropout(dropout_rate),\n",
    "            nn.Linear(mlp_dim, mlp_dim),\n",
    "            nn.GELU(),\n",
    "            nn.Dropout(dropout_rate)\n",
    "        )\n",
    "\n",
    "        # Classification head\n",
    "        self.fc = nn.Linear(mlp_dim, num_classes)\n",
    "\n",
    "    def forward(self, x):\n",
    "        # Convolutional layers before patch embedding\n",
    "        x = self.pre_conv(x)  # Capture more local features\n",
    "\n",
    "        # Patch embedding\n",
    "        x = self.patch_embed(x)  # Shape: [batch_size, embed_dim, num_patches, patch_size]\n",
    "        x = x.flatten(2).transpose(1, 2)  # Shape: [batch_size, num_patches, embed_dim]\n",
    "        x = self.norm(x)  # Apply normalization\n",
    "\n",
    "        # Add positional encoding\n",
    "        x = x + self.positional_encoding\n",
    "\n",
    "        # Transformer encoder\n",
    "        x = self.transformer_encoder(x)  # Shape: [batch_size, num_patches, embed_dim]\n",
    "\n",
    "        # Additional FFN layers\n",
    "        x = self.ffn(x.mean(dim=1))  # Aggregate patch embeddings and apply FFN\n",
    "        \n",
    "        # Classification head\n",
    "        x = self.fc(x)\n",
    "        return x\n"
   ]
  },
  {
   "cell_type": "code",
   "execution_count": 5,
   "metadata": {},
   "outputs": [],
   "source": [
    "\n",
    "# class ViT(nn.Module):\n",
    "#     def __init__(self, num_classes=4, embed_dim=128, num_heads=4, num_layers=4, mlp_dim=256):\n",
    "#         super(ViT, self).__init__()\n",
    "#         self.embed_dim = embed_dim\n",
    "#         self.patch_size = 16\n",
    "#         self.num_patches = (224 // self.patch_size) ** 2\n",
    "\n",
    "#         # Patch embedding\n",
    "#         self.patch_embed = nn.Conv2d(in_channels=3, out_channels=embed_dim, kernel_size=self.patch_size, stride=self.patch_size)\n",
    "\n",
    "#         # Positional encoding\n",
    "#         self.positional_encoding = nn.Parameter(torch.zeros(1, self.num_patches, embed_dim))\n",
    "\n",
    "#         # Transformer encoder layers\n",
    "#         encoder_layer = nn.TransformerEncoderLayer(d_model=embed_dim, nhead=num_heads, dim_feedforward=mlp_dim)\n",
    "#         self.transformer_encoder = nn.TransformerEncoder(encoder_layer, num_layers=num_layers)\n",
    "\n",
    "#         # Classification head\n",
    "#         self.fc = nn.Linear(embed_dim, num_classes)\n",
    "\n",
    "#     def forward(self, x):\n",
    "#         # Patch embedding\n",
    "#         x = self.patch_embed(x)  # Shape: [batch_size, embed_dim, num_patches, patch_size]\n",
    "#         x = x.flatten(2).transpose(1, 2)  # Shape: [batch_size, num_patches, embed_dim]\n",
    "\n",
    "#         # Add positional encoding\n",
    "#         x = x + self.positional_encoding\n",
    "\n",
    "#         # Transformer encoder\n",
    "#         x = self.transformer_encoder(x)  # Shape: [batch_size, num_patches, embed_dim]\n",
    "\n",
    "#         # Classification head\n",
    "#         x = x.mean(dim=1)  # Aggregate patch embeddings\n",
    "#         x = self.fc(x)\n",
    "#         return x"
   ]
  },
  {
   "cell_type": "code",
   "execution_count": 6,
   "metadata": {},
   "outputs": [],
   "source": [
    "# Define a custom dataset class\n",
    "class ImageDataset(Dataset):\n",
    "    def __init__(self, image_paths, labels, transform=None):\n",
    "        self.image_paths = image_paths\n",
    "        self.labels = labels\n",
    "        self.transform = transform\n",
    "\n",
    "    def __len__(self):\n",
    "        return len(self.image_paths)\n",
    "\n",
    "    def __getitem__(self, idx):\n",
    "        image = Image.open(self.image_paths[idx]).convert(\"RGB\")\n",
    "        label = self.labels[idx]\n",
    "        if self.transform:\n",
    "            image = self.transform(image)\n",
    "        return image, label\n",
    "\n",
    "image_paths = []\n",
    "labels = []\n",
    "for i, folder in enumerate(image_folders):\n",
    "    for img_name in os.listdir(folder):\n",
    "        img_path = os.path.join(folder, img_name)\n",
    "        image_paths.append(img_path)\n",
    "        labels.append(i)\n",
    "\n",
    "# Define transformations and dataset\n",
    "transform = transforms.Compose([\n",
    "    transforms.Resize((224, 224)),\n",
    "    transforms.ToTensor(),\n",
    "])\n",
    "\n",
    "dataset = ImageDataset(image_paths, labels, transform=transform)\n",
    "train_loader = DataLoader(dataset, batch_size=512, shuffle=True)"
   ]
  },
  {
   "cell_type": "code",
   "execution_count": 7,
   "metadata": {},
   "outputs": [
    {
     "name": "stderr",
     "output_type": "stream",
     "text": [
      "/opt/anaconda3/envs/rishabh_sat/lib/python3.12/site-packages/torch/nn/modules/transformer.py:306: UserWarning: enable_nested_tensor is True, but self.use_nested_tensor is False because encoder_layer.self_attn.batch_first was not True(use batch_first for better inference performance)\n",
      "  warnings.warn(f\"enable_nested_tensor is True, but self.use_nested_tensor is False because {why_not_sparsity_fast_path}\")\n",
      "100%|██████████| 6/6 [02:38<00:00, 26.40s/it]\n",
      "100%|██████████| 6/6 [02:36<00:00, 26.14s/it]\n",
      "100%|██████████| 6/6 [02:35<00:00, 25.98s/it]\n",
      "100%|██████████| 6/6 [02:37<00:00, 26.21s/it]\n",
      "100%|██████████| 6/6 [02:37<00:00, 26.19s/it]\n"
     ]
    },
    {
     "name": "stdout",
     "output_type": "stream",
     "text": [
      "Epoch 5/100, Loss: 1.3871\n"
     ]
    },
    {
     "name": "stderr",
     "output_type": "stream",
     "text": [
      "100%|██████████| 6/6 [02:35<00:00, 25.90s/it]\n",
      "100%|██████████| 6/6 [02:36<00:00, 26.14s/it]\n",
      "100%|██████████| 6/6 [02:35<00:00, 25.99s/it]\n",
      "100%|██████████| 6/6 [02:37<00:00, 26.24s/it]\n",
      "100%|██████████| 6/6 [02:31<00:00, 25.22s/it]\n"
     ]
    },
    {
     "name": "stdout",
     "output_type": "stream",
     "text": [
      "Epoch 10/100, Loss: 1.3869\n"
     ]
    },
    {
     "name": "stderr",
     "output_type": "stream",
     "text": [
      "100%|██████████| 6/6 [02:30<00:00, 25.03s/it]\n",
      "100%|██████████| 6/6 [02:31<00:00, 25.18s/it]\n",
      "100%|██████████| 6/6 [02:30<00:00, 25.07s/it]\n",
      "100%|██████████| 6/6 [02:30<00:00, 25.06s/it]\n",
      "100%|██████████| 6/6 [02:30<00:00, 25.04s/it]\n"
     ]
    },
    {
     "name": "stdout",
     "output_type": "stream",
     "text": [
      "Epoch 15/100, Loss: 1.3871\n"
     ]
    },
    {
     "name": "stderr",
     "output_type": "stream",
     "text": [
      "100%|██████████| 6/6 [02:33<00:00, 25.58s/it]\n",
      "100%|██████████| 6/6 [02:29<00:00, 25.00s/it]\n",
      "100%|██████████| 6/6 [02:29<00:00, 24.97s/it]\n",
      "100%|██████████| 6/6 [02:29<00:00, 24.97s/it]\n",
      "100%|██████████| 6/6 [02:30<00:00, 25.11s/it]\n"
     ]
    },
    {
     "name": "stdout",
     "output_type": "stream",
     "text": [
      "Epoch 20/100, Loss: 1.3872\n"
     ]
    },
    {
     "name": "stderr",
     "output_type": "stream",
     "text": [
      "100%|██████████| 6/6 [02:31<00:00, 25.18s/it]\n",
      "100%|██████████| 6/6 [02:30<00:00, 25.14s/it]\n",
      "100%|██████████| 6/6 [02:40<00:00, 26.80s/it]\n",
      "100%|██████████| 6/6 [02:36<00:00, 26.00s/it]\n",
      "100%|██████████| 6/6 [02:36<00:00, 26.09s/it]\n"
     ]
    },
    {
     "name": "stdout",
     "output_type": "stream",
     "text": [
      "Epoch 25/100, Loss: 1.3869\n"
     ]
    },
    {
     "name": "stderr",
     "output_type": "stream",
     "text": [
      "100%|██████████| 6/6 [02:36<00:00, 26.12s/it]\n",
      "100%|██████████| 6/6 [02:36<00:00, 26.05s/it]\n",
      "100%|██████████| 6/6 [02:36<00:00, 26.07s/it]\n",
      "100%|██████████| 6/6 [02:37<00:00, 26.17s/it]\n",
      "100%|██████████| 6/6 [02:35<00:00, 25.99s/it]\n"
     ]
    },
    {
     "name": "stdout",
     "output_type": "stream",
     "text": [
      "Epoch 30/100, Loss: 1.3871\n"
     ]
    },
    {
     "name": "stderr",
     "output_type": "stream",
     "text": [
      "100%|██████████| 6/6 [02:37<00:00, 26.19s/it]\n",
      "100%|██████████| 6/6 [02:35<00:00, 25.88s/it]\n",
      "100%|██████████| 6/6 [02:36<00:00, 26.01s/it]\n",
      "100%|██████████| 6/6 [02:36<00:00, 26.10s/it]\n",
      "100%|██████████| 6/6 [02:36<00:00, 26.15s/it]\n"
     ]
    },
    {
     "name": "stdout",
     "output_type": "stream",
     "text": [
      "Epoch 35/100, Loss: 1.3871\n"
     ]
    },
    {
     "name": "stderr",
     "output_type": "stream",
     "text": [
      "100%|██████████| 6/6 [02:36<00:00, 26.05s/it]\n",
      "100%|██████████| 6/6 [02:36<00:00, 26.01s/it]\n",
      "100%|██████████| 6/6 [02:36<00:00, 26.14s/it]\n",
      "100%|██████████| 6/6 [02:37<00:00, 26.22s/it]\n",
      "100%|██████████| 6/6 [02:36<00:00, 26.02s/it]\n"
     ]
    },
    {
     "name": "stdout",
     "output_type": "stream",
     "text": [
      "Epoch 40/100, Loss: 1.3868\n"
     ]
    },
    {
     "name": "stderr",
     "output_type": "stream",
     "text": [
      "100%|██████████| 6/6 [02:37<00:00, 26.17s/it]\n",
      "100%|██████████| 6/6 [02:35<00:00, 25.97s/it]\n",
      "100%|██████████| 6/6 [02:35<00:00, 25.89s/it]\n",
      "100%|██████████| 6/6 [02:35<00:00, 25.91s/it]\n",
      "100%|██████████| 6/6 [02:29<00:00, 24.96s/it]\n"
     ]
    },
    {
     "name": "stdout",
     "output_type": "stream",
     "text": [
      "Epoch 45/100, Loss: 1.3868\n"
     ]
    },
    {
     "name": "stderr",
     "output_type": "stream",
     "text": [
      "100%|██████████| 6/6 [02:30<00:00, 25.07s/it]\n",
      "100%|██████████| 6/6 [02:30<00:00, 25.14s/it]\n",
      "100%|██████████| 6/6 [02:29<00:00, 24.93s/it]\n",
      "100%|██████████| 6/6 [02:32<00:00, 25.38s/it]\n",
      "100%|██████████| 6/6 [02:29<00:00, 24.97s/it]\n"
     ]
    },
    {
     "name": "stdout",
     "output_type": "stream",
     "text": [
      "Epoch 50/100, Loss: 1.3870\n"
     ]
    },
    {
     "name": "stderr",
     "output_type": "stream",
     "text": [
      "100%|██████████| 6/6 [02:30<00:00, 25.02s/it]\n",
      "100%|██████████| 6/6 [02:41<00:00, 26.90s/it]\n",
      "100%|██████████| 6/6 [02:34<00:00, 25.68s/it]\n",
      "100%|██████████| 6/6 [02:33<00:00, 25.64s/it]\n",
      "100%|██████████| 6/6 [02:33<00:00, 25.56s/it]\n"
     ]
    },
    {
     "name": "stdout",
     "output_type": "stream",
     "text": [
      "Epoch 55/100, Loss: 1.3867\n"
     ]
    },
    {
     "name": "stderr",
     "output_type": "stream",
     "text": [
      "100%|██████████| 6/6 [02:33<00:00, 25.60s/it]\n",
      "100%|██████████| 6/6 [02:33<00:00, 25.64s/it]\n",
      "100%|██████████| 6/6 [02:33<00:00, 25.57s/it]\n",
      "100%|██████████| 6/6 [02:33<00:00, 25.59s/it]\n",
      "100%|██████████| 6/6 [02:33<00:00, 25.66s/it]\n"
     ]
    },
    {
     "name": "stdout",
     "output_type": "stream",
     "text": [
      "Epoch 60/100, Loss: 1.3873\n"
     ]
    },
    {
     "name": "stderr",
     "output_type": "stream",
     "text": [
      "100%|██████████| 6/6 [02:34<00:00, 25.68s/it]\n",
      "100%|██████████| 6/6 [02:34<00:00, 25.70s/it]\n",
      "100%|██████████| 6/6 [02:33<00:00, 25.60s/it]\n",
      "100%|██████████| 6/6 [02:33<00:00, 25.59s/it]\n",
      "100%|██████████| 6/6 [02:33<00:00, 25.62s/it]\n"
     ]
    },
    {
     "name": "stdout",
     "output_type": "stream",
     "text": [
      "Epoch 65/100, Loss: 1.3868\n"
     ]
    },
    {
     "name": "stderr",
     "output_type": "stream",
     "text": [
      "100%|██████████| 6/6 [02:34<00:00, 25.67s/it]\n",
      "100%|██████████| 6/6 [02:34<00:00, 25.74s/it]\n",
      "100%|██████████| 6/6 [02:34<00:00, 25.70s/it]\n",
      "100%|██████████| 6/6 [02:33<00:00, 25.61s/it]\n",
      "100%|██████████| 6/6 [02:33<00:00, 25.62s/it]\n"
     ]
    },
    {
     "name": "stdout",
     "output_type": "stream",
     "text": [
      "Epoch 70/100, Loss: 1.3866\n"
     ]
    },
    {
     "name": "stderr",
     "output_type": "stream",
     "text": [
      "100%|██████████| 6/6 [02:33<00:00, 25.54s/it]\n",
      "100%|██████████| 6/6 [02:33<00:00, 25.60s/it]\n",
      "100%|██████████| 6/6 [02:33<00:00, 25.56s/it]\n",
      "100%|██████████| 6/6 [02:33<00:00, 25.56s/it]\n",
      "100%|██████████| 6/6 [02:33<00:00, 25.66s/it]\n"
     ]
    },
    {
     "name": "stdout",
     "output_type": "stream",
     "text": [
      "Epoch 75/100, Loss: 1.3869\n"
     ]
    },
    {
     "name": "stderr",
     "output_type": "stream",
     "text": [
      "100%|██████████| 6/6 [02:33<00:00, 25.64s/it]\n",
      "100%|██████████| 6/6 [02:34<00:00, 25.69s/it]\n",
      "100%|██████████| 6/6 [02:33<00:00, 25.55s/it]\n",
      "100%|██████████| 6/6 [02:33<00:00, 25.57s/it]\n",
      "100%|██████████| 6/6 [02:33<00:00, 25.64s/it]\n"
     ]
    },
    {
     "name": "stdout",
     "output_type": "stream",
     "text": [
      "Epoch 80/100, Loss: 1.3869\n"
     ]
    },
    {
     "name": "stderr",
     "output_type": "stream",
     "text": [
      "100%|██████████| 6/6 [02:33<00:00, 25.56s/it]\n",
      "100%|██████████| 6/6 [02:33<00:00, 25.57s/it]\n",
      "100%|██████████| 6/6 [02:33<00:00, 25.64s/it]\n",
      "100%|██████████| 6/6 [02:34<00:00, 25.75s/it]\n",
      "100%|██████████| 6/6 [02:34<00:00, 25.69s/it]\n"
     ]
    },
    {
     "name": "stdout",
     "output_type": "stream",
     "text": [
      "Epoch 85/100, Loss: 1.3867\n"
     ]
    },
    {
     "name": "stderr",
     "output_type": "stream",
     "text": [
      "100%|██████████| 6/6 [02:34<00:00, 25.71s/it]\n",
      "100%|██████████| 6/6 [02:43<00:00, 27.29s/it]\n",
      "100%|██████████| 6/6 [02:35<00:00, 25.96s/it]\n",
      "100%|██████████| 6/6 [02:34<00:00, 25.79s/it]\n",
      "100%|██████████| 6/6 [02:35<00:00, 25.85s/it]\n"
     ]
    },
    {
     "name": "stdout",
     "output_type": "stream",
     "text": [
      "Epoch 90/100, Loss: 1.3864\n"
     ]
    },
    {
     "name": "stderr",
     "output_type": "stream",
     "text": [
      "100%|██████████| 6/6 [02:33<00:00, 25.62s/it]\n",
      "100%|██████████| 6/6 [02:35<00:00, 25.86s/it]\n",
      "100%|██████████| 6/6 [02:33<00:00, 25.57s/it]\n",
      "100%|██████████| 6/6 [02:30<00:00, 25.15s/it]\n",
      "100%|██████████| 6/6 [02:30<00:00, 25.14s/it]\n"
     ]
    },
    {
     "name": "stdout",
     "output_type": "stream",
     "text": [
      "Epoch 95/100, Loss: 1.3867\n"
     ]
    },
    {
     "name": "stderr",
     "output_type": "stream",
     "text": [
      "100%|██████████| 6/6 [02:30<00:00, 25.12s/it]\n",
      "100%|██████████| 6/6 [02:29<00:00, 24.99s/it]\n",
      "100%|██████████| 6/6 [02:31<00:00, 25.20s/it]\n",
      "100%|██████████| 6/6 [02:31<00:00, 25.19s/it]\n",
      "100%|██████████| 6/6 [02:30<00:00, 25.12s/it]\n"
     ]
    },
    {
     "name": "stdout",
     "output_type": "stream",
     "text": [
      "Epoch 100/100, Loss: 1.3866\n"
     ]
    },
    {
     "data": {
      "image/png": "[encoded data removed]",
      "text/plain": [
       "<Figure size 1000x500 with 1 Axes>"
      ]
     },
     "metadata": {},
     "output_type": "display_data"
    }
   ],
   "source": [
    "\n",
    "device = torch.device(\"cuda\" if torch.cuda.is_available() else \"cpu\")\n",
    "model = ViT(num_classes=len(image_folders))\n",
    "model.to(device)\n",
    "\n",
    "# Define the optimizer and loss function\n",
    "optimizer = torch.optim.AdamW(model.parameters(), lr=1e-4)\n",
    "criterion = torch.nn.CrossEntropyLoss()\n",
    "\n",
    "# Training loop\n",
    "num_epochs = 100\n",
    "model.train()\n",
    "\n",
    "# Initialize a list to store loss values for plotting\n",
    "epoch_losses = []\n",
    "\n",
    "for epoch in range(num_epochs):\n",
    "    running_loss = 0.0\n",
    "    for images, labels in tqdm(train_loader):\n",
    "        images, labels = images.to(device), labels.to(device)\n",
    "\n",
    "        optimizer.zero_grad()\n",
    "\n",
    "        # Forward pass\n",
    "        outputs = model(images)\n",
    "        loss = criterion(outputs, labels)\n",
    "\n",
    "        # Backward pass and optimization\n",
    "        loss.backward()\n",
    "        optimizer.step()\n",
    "\n",
    "        running_loss += loss.item()\n",
    "\n",
    "    # Compute average loss for the epoch\n",
    "    epoch_loss = running_loss / len(train_loader)\n",
    "    epoch_losses.append(epoch_loss)  # Append the loss for this epoch\n",
    "    # Print the loss after 5 epochs\n",
    "    if (epoch + 1) % 5 == 0:\n",
    "        print(f\"Epoch {epoch+1}/{num_epochs}, Loss: {epoch_loss:.4f}\")\n",
    "# Save the trained model\n",
    "torch.save(model.state_dict(), \"vit_classification_model.pth\")\n",
    "\n",
    "# Plot the training loss curve\n",
    "plt.figure(figsize=(10, 5))\n",
    "#plot the loss curve after every 5 epochs\n",
    "plt.plot(range(1, num_epochs + 1, 5), epoch_losses[::5], marker='o', color='b', linestyle='-', linewidth=2, markersize=8)\n",
    "# plt.plot(range(1, num_epochs + 1), epoch_losses, marker='o', color='b', linestyle='-', linewidth=2, markersize=8)\n",
    "plt.xlabel('Epoch')\n",
    "plt.ylabel('Loss')\n",
    "plt.title('Training Loss Curve')\n",
    "# plt.grid(True)\n",
    "plt.xticks(range(1, num_epochs + 1))\n",
    "plt.show()"
   ]
  },
  {
   "cell_type": "code",
   "execution_count": 8,
   "metadata": {},
   "outputs": [],
   "source": [
    "# Set test path\n",
    "test_path = \"/home/rishabh.mondal/Brick-Kilns-project/albk_rishabh/albk_v2/YOLO_LOCALIZATION/cv-learnings/coco_ankiita/SD2Q/Test\"\n",
    "\n",
    "# Define the test image folders and corresponding labels\n",
    "image_folders = [\n",
    "    \"Facebook\",\n",
    "    \"Instagram\",\n",
    "    \"Telegram\",\n",
    "    \"Whatsapp\",\n",
    "]\n",
    "test_image_paths = []\n",
    "test_labels = []\n",
    "\n",
    "# Loop through each folder and collect image paths and labels\n",
    "for i, folder in enumerate(image_folders):\n",
    "    folder_path = os.path.join(test_path, folder)\n",
    "    if os.path.exists(folder_path):\n",
    "        for img_name in os.listdir(folder_path):\n",
    "            img_path = os.path.join(folder_path, img_name)\n",
    "            test_image_paths.append(img_path)\n",
    "            test_labels.append(i)\n",
    "    else:\n",
    "        print(f\"Warning: {folder_path} does not exist.\")\n",
    "\n",
    "# Define transformations for the test set\n",
    "test_transform = transforms.Compose([\n",
    "    transforms.Resize((224, 224)),\n",
    "    transforms.ToTensor(),\n",
    "])\n",
    "\n",
    "# Create test dataset and dataloader\n",
    "test_dataset = ImageDataset(test_image_paths, test_labels, transform=test_transform)\n",
    "test_loader = DataLoader(test_dataset, batch_size=1024, shuffle=False)\n"
   ]
  },
  {
   "cell_type": "code",
   "execution_count": 9,
   "metadata": {},
   "outputs": [
    {
     "name": "stdout",
     "output_type": "stream",
     "text": [
      "Accuracy: 25.00%\n",
      "Average Loss: 1.3863\n"
     ]
    },
    {
     "data": {
      "image/png": "[encoded data removed]",
      "text/plain": [
       "<Figure size 1000x700 with 2 Axes>"
      ]
     },
     "metadata": {},
     "output_type": "display_data"
    }
   ],
   "source": [
    "import matplotlib.pyplot as plt\n",
    "import seaborn as sns\n",
    "from sklearn.metrics import confusion_matrix, ConfusionMatrixDisplay\n",
    "\n",
    "def evaluate_model(model, test_loader):\n",
    "    model.eval()\n",
    "    correct = 0\n",
    "    total = 0\n",
    "    all_labels = []\n",
    "    all_predictions = []\n",
    "    running_loss = 0.0\n",
    "\n",
    "    with torch.no_grad():\n",
    "        for images, labels in test_loader:\n",
    "            images, labels = images.to(device), labels.to(device)\n",
    "            outputs = model(images)\n",
    "            loss = criterion(outputs, labels)\n",
    "            running_loss += loss.item()\n",
    "\n",
    "            _, predicted = torch.max(outputs, 1)\n",
    "            total += labels.size(0)\n",
    "            correct += (predicted == labels).sum().item()\n",
    "            \n",
    "            all_labels.extend(labels.cpu().numpy())\n",
    "            all_predictions.extend(predicted.cpu().numpy())\n",
    "\n",
    "    accuracy = 100 * correct / total\n",
    "    average_loss = running_loss / len(test_loader)\n",
    "    \n",
    "    print(f'Accuracy: {accuracy:.2f}%')\n",
    "    print(f'Average Loss: {average_loss:.4f}')\n",
    "\n",
    "    # Plot confusion matrix\n",
    "    cm = confusion_matrix(all_labels, all_predictions, labels=list(range(len(image_folders))))\n",
    "    # disp = ConfusionMatrixDisplay(confusion_matrix=cm, display_labels=[f'Folder {i+1}' for i in range(len(image_folders))])\n",
    "    disp = ConfusionMatrixDisplay(confusion_matrix=cm, display_labels=image_folders)\n",
    "    \n",
    "    fig, ax = plt.subplots(figsize=(10, 7))\n",
    "    disp.plot(ax=ax, cmap='Blues', values_format='d')\n",
    "    plt.title('Confusion Matrix')\n",
    "    plt.show()\n",
    "\n",
    "    return average_loss\n",
    "\n",
    "# Evaluate on test set\n",
    "test_loss = evaluate_model(model, test_loader)\n"
   ]
  },
  {
   "cell_type": "code",
   "execution_count": null,
   "metadata": {},
   "outputs": [],
   "source": []
  }
 ],
 "metadata": {
  "kernelspec": {
   "display_name": "rishabh_sat",
   "language": "python",
   "name": "python3"
  },
  "language_info": {
   "codemirror_mode": {
    "name": "ipython",
    "version": 3
   },
   "file_extension": ".py",
   "mimetype": "text/x-python",
   "name": "python",
   "nbconvert_exporter": "python",
   "pygments_lexer": "ipython3",
   "version": "3.12.4"
  }
 },
 "nbformat": 4,
 "nbformat_minor": 2
}
